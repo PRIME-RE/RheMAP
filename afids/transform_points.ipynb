{
 "cells": [
  {
   "cell_type": "markdown",
   "metadata": {},
   "source": [
    "# Transform afids-macaca points between templates via the computed warps"
   ]
  },
  {
   "cell_type": "markdown",
   "metadata": {},
   "source": [
    "**Authors:** Nikoloz Sirmpilatze (NSirmpilatze@dpz.eu)\n",
    "\n",
    "**Last updated:** 28 Feb 2020"
   ]
  },
  {
   "cell_type": "markdown",
   "metadata": {},
   "source": [
    "## Import libraries"
   ]
  },
  {
   "cell_type": "code",
   "execution_count": 14,
   "metadata": {},
   "outputs": [],
   "source": [
    "import os\n",
    "import numpy as np\n",
    "import pandas as pd\n",
    "from itertools import combinations"
   ]
  },
  {
   "cell_type": "markdown",
   "metadata": {},
   "source": [
    "## Define paths "
   ]
  },
  {
   "cell_type": "code",
   "execution_count": 17,
   "metadata": {},
   "outputs": [],
   "source": [
    "os.chdir(os.getcwd())\n",
    "\n",
    "# prefixes (RheMAP and AFIDs use different prefixes for the templates)\n",
    "rhemap_prefixes = ['NMTv1.3', 'D99', 'INIA', 'MNI', 'YRK']\n",
    "afids_prefixes = ['nmtv1.3', 'd99', 'inia19', 'macaqueMNI', 'yerkes19']\n",
    "# make dictionary matching RheMAP prefixes to AFIDs prefixes\n",
    "prefix_dict = {key: value for (key, value) in zip(rhemap_prefixes, afids_prefixes)}\n",
    "\n",
    "# Warps (Replace with your local RheMAP warp paths)\n",
    "warps = '/home/nsirmpilatze/home@dpz/RheMAP_data/warps/'\n",
    "warps_linear = warps + 'linear/' # linear: Affine only\n",
    "warps_final = warps + 'final/' # final: composite Affine + SyN\n",
    "\n",
    "# fiducials (stored within the repository)\n",
    "fid_inputs = './fiducials/PHASE1_PostQC/'\n",
    "fid_outputs = './fiducials/PHASE1_PostQC_transformed/'"
   ]
  },
  {
   "cell_type": "markdown",
   "metadata": {},
   "source": [
    "## Define function for transforming fcsv files"
   ]
  },
  {
   "cell_type": "code",
   "execution_count": 12,
   "metadata": {},
   "outputs": [],
   "source": [
    "def transform_fcsv(input_fcsv, output_fcsv, transform, invert=0):\n",
    "    '''Applies ANTs transform to 3D slicer fcsv file in 3 steps:\n",
    "        \n",
    "    1. Slicer fcsv (RAS) is converted to ANTs-compatible (LPS) csv\n",
    "    2. The transform is applied to the csv via antsApplyTransformsToPoints\n",
    "    3. The transformed csv is converted back to Slicer fcsv format\n",
    "    Function is based on afids-tools legacy scripts github.com/afids/afids-tools\n",
    "\n",
    "    Parameters\n",
    "    ----------\n",
    "    input fcsv: path to input Slicer fcsv file\n",
    "    ouput fcsv: path to output Slicer fcsv file\n",
    "    transform: path to ANTs transform file (either linear .mat or .nii.gz warp)\n",
    "    invert: if 1, linear .mat is inverted\n",
    "    '''\n",
    "\n",
    "    # get output directory\n",
    "    output_dir = os.path.dirname(output_fcsv)\n",
    "    # temporary csv files are also saved in the same output directory\n",
    "    orig_csv = os.path.join(output_dir, 'tmp_orig.csv')\n",
    "    transformed_csv = os.path.join(output_dir, 'tmp_transformed.csv')\n",
    "\n",
    "    # convert Slicer RAS oriented FCSV (default)\n",
    "    # to Ants LPS oriented format (expected orientation)\n",
    "    # use with CAUTION: orientation flips here\n",
    "    df = pd.read_csv(input_fcsv, skiprows=2)\n",
    "    coords = df[['x', 'y', 'z']]\n",
    "    coords.loc[:, 't'] = np.zeros(len(coords)) # add a 4th dimension of zeros \n",
    "    coords['x'] = -1 * coords['x'] # flip orientation in x\n",
    "    coords['y'] = -1 * coords['y'] # flip orientation in y\n",
    "    coords.to_csv(orig_csv, index=False, float_format='%.3f')\n",
    "\n",
    "    # apply transforms to original csv and get transformed csv\n",
    "    !antsApplyTransformsToPoints -d 3 -i $orig_csv -o $transformed_csv -t [$transform, $invert]\n",
    "\n",
    "    new_coords = pd.read_csv(transformed_csv)\n",
    "    # flip x and y signs, to convert back from ANTs LPS to slicer RAS space\n",
    "    df['x'] = -1 * new_coords['x'].values.round(3)\n",
    "    df['y'] = -1 * new_coords['y'].values.round(3)\n",
    "    df['z'] = new_coords['z'].values.round(3)\n",
    "\n",
    "    # read lines from input_fcsv\n",
    "    with open(input_fcsv, 'r') as file:\n",
    "        lines = file.readlines()\n",
    "    # replace data lines (leave header unchanged)\n",
    "    for i in df.index:\n",
    "        row_entries = [str(cell) for cell in df.iloc[i, :].values]\n",
    "        lines[3 + i] = ','.join(row_entries) + '\\n'\n",
    "    # write lines to outout_fcsv\n",
    "    with open(output_fcsv, 'w') as file:\n",
    "        file.writelines(lines)\n",
    "\n",
    "    # remove temporary files\n",
    "    os.remove(orig_csv)\n",
    "    os.remove(transformed_csv)"
   ]
  },
  {
   "cell_type": "markdown",
   "metadata": {},
   "source": [
    "## Apply transforms to points"
   ]
  },
  {
   "cell_type": "markdown",
   "metadata": {},
   "source": [
    "**Important note**: ANTs transforms on points work in the opposite direction (as compared to image transforms).\n",
    "\n",
    "For example, let's imagine we have to go from space A to space B either using a linear transform (.mat) or a non-linear warp(.nii.gz)\n",
    "* Linear A-to-B transform for images: `antsApplyTransforms -i A -r B -o A-in-B -t A-to-B.mat`\n",
    "* Linear A-to-B transform for points: `antsApplyTransformsToPoints -i A -r B -o A-in-B -t [A-to-B.mat, 1]` (inverting the forward transform)\n",
    "* Nonlinear A-to-B transform for images: `antsApplyTransforms -i A -r B -o A-in-B -t A-to-B_1Warp.nii.gz` (for RheMAP we would use the `A-to-B_CompositeWarp.nii.gz`)\n",
    "* Nonlinear A-to-B transform for points: `antsApplyTransformsToPoints -i A -r B -o A-in-B A-to-B_1InverseWarp.nii.gz` (for RheMAP we would use the `B-to-A_CompositeWarp.nii.gz`)"
   ]
  },
  {
   "cell_type": "code",
   "execution_count": 20,
   "metadata": {},
   "outputs": [
    {
     "output_type": "stream",
     "name": "stdout",
     "text": "Transforming fiducials between nmtv1.3 and d99...\nnmtv1.3 fiducial linearly transformed to d99 space\nnmtv1.3 fiducial nonlinearly transformed to d99 space\nd99 fiducial linearly transformed to nmtv1.3 space\nd99 fiducial nonlinearly transformed to nmtv1.3 space\n\nTransforming fiducials between nmtv1.3 and inia19...\nnmtv1.3 fiducial linearly transformed to inia19 space\nnmtv1.3 fiducial nonlinearly transformed to inia19 space\ninia19 fiducial linearly transformed to nmtv1.3 space\ninia19 fiducial nonlinearly transformed to nmtv1.3 space\n\nTransforming fiducials between nmtv1.3 and macaqueMNI...\nnmtv1.3 fiducial linearly transformed to macaqueMNI space\nnmtv1.3 fiducial nonlinearly transformed to macaqueMNI space\nmacaqueMNI fiducial linearly transformed to nmtv1.3 space\nmacaqueMNI fiducial nonlinearly transformed to nmtv1.3 space\n\nTransforming fiducials between nmtv1.3 and yerkes19...\nnmtv1.3 fiducial linearly transformed to yerkes19 space\nnmtv1.3 fiducial nonlinearly transformed to yerkes19 space\nyerkes19 fiducial linearly transformed to nmtv1.3 space\nyerkes19 fiducial nonlinearly transformed to nmtv1.3 space\n\nTransforming fiducials between d99 and inia19...\nd99 fiducial linearly transformed to inia19 space\nd99 fiducial nonlinearly transformed to inia19 space\ninia19 fiducial linearly transformed to d99 space\ninia19 fiducial nonlinearly transformed to d99 space\n\nTransforming fiducials between d99 and macaqueMNI...\nd99 fiducial linearly transformed to macaqueMNI space\nd99 fiducial nonlinearly transformed to macaqueMNI space\nmacaqueMNI fiducial linearly transformed to d99 space\nmacaqueMNI fiducial nonlinearly transformed to d99 space\n\nTransforming fiducials between d99 and yerkes19...\nd99 fiducial linearly transformed to yerkes19 space\nd99 fiducial nonlinearly transformed to yerkes19 space\nyerkes19 fiducial linearly transformed to d99 space\nyerkes19 fiducial nonlinearly transformed to d99 space\n\nTransforming fiducials between inia19 and macaqueMNI...\ninia19 fiducial linearly transformed to macaqueMNI space\ninia19 fiducial nonlinearly transformed to macaqueMNI space\nmacaqueMNI fiducial linearly transformed to inia19 space\nmacaqueMNI fiducial nonlinearly transformed to inia19 space\n\nTransforming fiducials between inia19 and yerkes19...\ninia19 fiducial linearly transformed to yerkes19 space\ninia19 fiducial nonlinearly transformed to yerkes19 space\nyerkes19 fiducial linearly transformed to inia19 space\nyerkes19 fiducial nonlinearly transformed to inia19 space\n\nTransforming fiducials between macaqueMNI and yerkes19...\nmacaqueMNI fiducial linearly transformed to yerkes19 space\nmacaqueMNI fiducial nonlinearly transformed to yerkes19 space\nyerkes19 fiducial linearly transformed to macaqueMNI space\nyerkes19 fiducial nonlinearly transformed to macaqueMNI space\n\n"
    }
   ],
   "source": [
    "# Iterate over unique template pairs\n",
    "for rheA, rheB in combinations(rhemap_prefixes, 2):\n",
    "\n",
    "    # prefixes\n",
    "    afdA, afdB = prefix_dict[rheA], prefix_dict[rheB]\n",
    "    print('Transforming fiducials between {0} and {1}...'.format(afdA, afdB))\n",
    "\n",
    "    # input fiducials\n",
    "    fcsv_A = fid_inputs + '{0}_MEAN_QC.fcsv'.format(afdA)\n",
    "    fcsv_B = fid_inputs + '{0}_MEAN_QC.fcsv'.format(afdB)\n",
    "\n",
    "    # output fiducials\n",
    "    fcsv_AinB_linear = fid_outputs + '{0}_MEAN_QC_in_{1}_linear.fcsv'.format(afdA, afdB)\n",
    "    fcsv_AinB_final = fid_outputs + '{0}_MEAN_QC_in_{1}_final.fcsv'.format(afdA, afdB)\n",
    "    fcsv_BinA_linear = fid_outputs + '{0}_MEAN_QC_in_{1}_linear.fcsv'.format(afdB, afdA)\n",
    "    fcsv_BinA_final = fid_outputs + '{0}_MEAN_QC_in_{1}_final.fcsv'.format(afdB, afdA)\n",
    "\n",
    "    # transforms\n",
    "    AtoB_linear = warps_linear + '{0}_to_{1}_affine_0GenericAffine.mat'.format(rheA, rheB)\n",
    "    AtoB_final = warps_final + '{0}_to_others/{0}_to_{1}_CompositeWarp.nii.gz'.format(rheA, rheB)\n",
    "    BtoA_final = warps_final + '{0}_to_others/{0}_to_{1}_CompositeWarp.nii.gz'.format(rheB, rheA)\n",
    "\n",
    "    # apply A to B transforms\n",
    "    transform_fcsv(fcsv_A, fcsv_AinB_linear, AtoB_linear, invert=1)\n",
    "    print('{0} fiducial linearly transformed to {1} space'.format(afdA, afdB))\n",
    "    transform_fcsv(fcsv_A, fcsv_AinB_final, BtoA_final)\n",
    "    print('{0} fiducial nonlinearly transformed to {1} space'.format(afdA, afdB))\n",
    "\n",
    "    # apply B to A transforms\n",
    "    transform_fcsv(fcsv_B, fcsv_BinA_linear, AtoB_linear, invert=0)\n",
    "    print('{0} fiducial linearly transformed to {1} space'.format(afdB, afdA))\n",
    "    transform_fcsv(fcsv_B, fcsv_BinA_final, AtoB_final)\n",
    "    print('{0} fiducial nonlinearly transformed to {1} space\\n'.format(afdB, afdA))"
   ]
  },
  {
   "cell_type": "markdown",
   "metadata": {},
   "source": []
  }
 ],
 "metadata": {
  "language_info": {
   "codemirror_mode": {
    "name": "ipython",
    "version": 3
   },
   "file_extension": ".py",
   "mimetype": "text/x-python",
   "name": "python",
   "nbconvert_exporter": "python",
   "pygments_lexer": "ipython3",
   "version": "3.7.3-final"
  },
  "orig_nbformat": 2,
  "kernelspec": {
   "name": "python37364bitbasecondadc69c2043cce40c8bd59720cb5903e6c",
   "display_name": "Python 3.7.3 64-bit ('base': conda)"
  }
 },
 "nbformat": 4,
 "nbformat_minor": 2
}
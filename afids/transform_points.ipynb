{
 "cells": [
  {
   "cell_type": "markdown",
   "metadata": {},
   "source": [
    "# Transform afids-macaca points between templates via the computed warps"
   ]
  },
  {
   "cell_type": "markdown",
   "metadata": {},
   "source": [
    "**Authors:** Nikoloz Sirmpilatze (NSirmpilatze@dpz.eu)\n",
    "\n",
    "**Last updated:** 28 Feb 2020"
   ]
  },
  {
   "cell_type": "markdown",
   "metadata": {},
   "source": [
    "## Import libraries"
   ]
  },
  {
   "cell_type": "code",
   "execution_count": 1,
   "metadata": {},
   "outputs": [],
   "source": [
    "import os\n",
    "import numpy as np\n",
    "import pandas as pd"
   ]
  },
  {
   "cell_type": "markdown",
   "metadata": {},
   "source": [
    "## Define paths "
   ]
  },
  {
   "cell_type": "code",
   "execution_count": 29,
   "metadata": {},
   "outputs": [],
   "source": [
    "os.chdir(os.getcwd())\n",
    "\n",
    "# templates (Replace with your local template paths)\n",
    "templates = '/home/nsirmpilatze/home@dpz/RheMAP_data/templates/'\n",
    "mni = templates + 'MNI/macaque_25_model-MNI.nii.gz'\n",
    "d99 = templates + 'D99/D99_template.nii'\n",
    "\n",
    "# Warps (Replace with your local RheMAP warp paths)\n",
    "warps = '/home/nsirmpilatze/home@dpz/RheMAP_data/warps/'\n",
    "d99_to_mni_linear = warps + 'linear/D99_to_MNI_affine_0GenericAffine.mat'\n",
    "d99_to_mni_composite = warps + 'final/D99_to_MNI_CompositeWarp.nii.gz'\n",
    "mni_to_d99_composite = warps + 'final/MNI_to_D99_CompositeWarp.nii.gz'\n",
    "\n",
    "# fiducials (example fiducial stored within the repository)\n",
    "fiducials = './fiducials/Raters_Session01/'\n",
    "mni_afids = fiducials + 'Fid32_macaqueMNI_T1_GG_01.fcsv'\n",
    "d99_afids = fiducials + 'Fid32_d99_T1_GG_01.fcsv'\n",
    "out_dir = './fiducials/transformed/'"
   ]
  },
  {
   "cell_type": "markdown",
   "metadata": {},
   "source": [
    "## Define function for transforming fcsv files"
   ]
  },
  {
   "cell_type": "code",
   "execution_count": 23,
   "metadata": {},
   "outputs": [],
   "source": [
    "def transform_fcsv(input_fcsv, output_fcsv, transform, invert=0):\n",
    "    '''Applies ANTs transform to 3D slicer fcsv file in 3 steps:\n",
    "        \n",
    "    1. Slicer fcsv (RAS) is converted to ANTs-compatible (LPS) csv\n",
    "    2. The transform is applied to the csv via antsApplyTransformsToPoints\n",
    "    3. The transformed csv is converted back to Slicer fcsv format\n",
    "    Function is based on afids-tools legacy scripts github.com/afids/afids-tools\n",
    "\n",
    "    Parameters\n",
    "    ----------\n",
    "    input fcsv: path to input Slicer fcsv file\n",
    "    ouput fcsv: path to output Slicer fcsv file\n",
    "    transform: path to ANTs transform file (either linear .mat or .nii.gz warp)\n",
    "    invert: if 1, linear .mat is inverted\n",
    "    '''\n",
    "\n",
    "    # get output directory\n",
    "    output_dir = os.path.dirname(output_fcsv)\n",
    "    # temporary csv files are also saved in the same output directory\n",
    "    orig_csv = os.path.join(output_dir, 'tmp_orig.csv')\n",
    "    transformed_csv = os.path.join(output_dir, 'tmp_transformed.csv')\n",
    "\n",
    "    # convert Slicer RAS oriented FCSV (default)\n",
    "    # to Ants LPS oriented format (expected orientation)\n",
    "    # use with CAUTION: orientation flips here\n",
    "    df = pd.read_csv(input_fcsv, skiprows=2)\n",
    "    coords = df[['x', 'y', 'z']]\n",
    "    coords.loc[:, 't'] = np.zeros(len(coords)) # add a 4th dimension of zeros \n",
    "    coords['x'] = -1 * coords['x'] # flip orientation in x\n",
    "    coords['y'] = -1 * coords['y'] # flip orientation in y\n",
    "    coords.to_csv(orig_csv, index=False, float_format='%.3f')\n",
    "\n",
    "    # apply transforms to original csv and get transformed csv\n",
    "    !antsApplyTransformsToPoints -d 3 -i $orig_csv -o $transformed_csv -t [$transform, $invert]\n",
    "\n",
    "    new_coords = pd.read_csv(transformed_csv)\n",
    "    # flip x and y signs, to convert back from ANTs LPS to slicer RAS space\n",
    "    df['x'] = -1 * new_coords['x'].values.round(3)\n",
    "    df['y'] = -1 * new_coords['y'].values.round(3)\n",
    "    df['z'] = new_coords['z'].values.round(3)\n",
    "\n",
    "    # read lines from input_fcsv\n",
    "    with open(input_fcsv, 'r') as file:\n",
    "        lines = file.readlines()\n",
    "    # replace data lines (leave header unchanged)\n",
    "    for i in df.index:\n",
    "        row_entries = [str(cell) for cell in df.iloc[i, :].values]\n",
    "        lines[3 + i] = ','.join(row_entries) + '\\n'\n",
    "    # write lines to outout_fcsv\n",
    "    with open(output_fcsv, 'w') as file:\n",
    "        file.writelines(lines)"
   ]
  },
  {
   "cell_type": "markdown",
   "metadata": {},
   "source": [
    "## Apply transforms to points"
   ]
  },
  {
   "cell_type": "markdown",
   "metadata": {},
   "source": [
    "**Important note**: ANTs transforms on points work in the opposite direction (as compared to image transforms).\n",
    "\n",
    "For example, let's imagine we have to go from space A to space B either using a linear transform (.mat) or a non-linear warp(.nii.gz)\n",
    "* Linear A-to-B transform for images: `antsApplyTransforms -i A -r B -o A-in-B -t A-to-B.mat`\n",
    "* Linear A-to-B transform for points: `antsApplyTransformsToPoints -i A -r B -o A-in-B -t [A-to-B.mat, 1]` (inverting the forward transform)\n",
    "* Nonlinear A-to-B transform for images: `antsApplyTransforms -i A -r B -o A-in-B -t A-to-B_1Warp.nii.gz` (for RheMAP we would use the `A-to-B_CompositeWarp.nii.gz`)\n",
    "* Nonlinear A-to-B transform for points: `antsApplyTransformsToPoints -i A -r B -o A-in-B A-to-B_1InverseWarp.nii.gz` (for RheMAP we would use the `B-to-A_CompositeWarp.nii.gz`)"
   ]
  },
  {
   "cell_type": "code",
   "execution_count": 31,
   "metadata": {},
   "outputs": [],
   "source": [
    "# Linear transform from D99 to MNImacaque\n",
    "linear_out = out_dir + 'Fid32_d99_GG_T1_01_in-MNImacaque_Linear.fcsv'\n",
    "transform_fcsv(d99_afids, linear_out, d99_to_mni_linear, 1)\n",
    "\n",
    "# Composite warp (affine + SyN) from D99 to MNImacaque\n",
    "composite_out = out_dir + 'Fid32_d99_GG_T1_01_in-MNImacaque_Composite.fcsv'\n",
    "transform_fcsv(d99_afids, composite_out, mni_to_d99_composite, 0)"
   ]
  },
  {
   "cell_type": "markdown",
   "metadata": {},
   "source": []
  }
 ],
 "metadata": {
  "language_info": {
   "codemirror_mode": {
    "name": "ipython",
    "version": 3
   },
   "file_extension": ".py",
   "mimetype": "text/x-python",
   "name": "python",
   "nbconvert_exporter": "python",
   "pygments_lexer": "ipython3",
   "version": "3.7.3-final"
  },
  "orig_nbformat": 2,
  "kernelspec": {
   "name": "python37364bitbasecondadc69c2043cce40c8bd59720cb5903e6c",
   "display_name": "Python 3.7.3 64-bit ('base': conda)"
  }
 },
 "nbformat": 4,
 "nbformat_minor": 2
}
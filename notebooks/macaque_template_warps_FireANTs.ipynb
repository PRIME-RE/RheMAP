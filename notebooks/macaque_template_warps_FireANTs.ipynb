{
 "cells": [
  {
   "cell_type": "markdown",
   "metadata": {},
   "source": [
    "# Registration across Macaque MRI templates"
   ]
  },
  {
   "cell_type": "markdown",
   "metadata": {},
   "source": [
    "**Authors:** Chris Klink (c.klink@nin.knaw.nl) & Nikoloz Sirmpilatze (niko.sirbiladze@gmail.com)               \n",
    "**Last updated:** June 17, 2025     \n",
    "\n",
    "**Requirements:**    \n",
    "* _python_ >= 3.7\n",
    "* _nipype_ >= 1.2.0\n",
    "* _nilearn_ >= 0.5.2\n",
    "    * Used only for visualisation\n",
    "* _nibabel_ >= 2.3.3\n",
    "* _joblib_ >= 0.14.1\n",
    "    * Used only for parallel processing, not necessary when registrations are done serially\n",
    "* _ANTs_ >= 2.4.0\n",
    "    * _antsRegistration_,  _antsApplyTransforms_ and _antsAverageImages_ need to be in your path as executables    \\\n",
    "* _Numpy_\n",
    "\n",
    "When using the faster GPU-based FireAnts:\n",
    "* _fireANTS_     \n",
    "    * [https://github.com/rohitrango/fireants](https://github.com/rohitrango/fireants)     \n",
    "* _matplotlib_.pyplot    \n",
    "* _SimpleITK_    \n",
    "* _Pytorch_     \n",
    "\n",
    "**Citation**: Sirmpilatze, Nikoloz and Klink, P. Christiaan (2020). RheMAP: Non-linear warps between common rhesus macaque brain templates (Version 1.2)[Data set]. Zenodo. https://doi.org/10.5281/zenodo.3786357     "
   ]
  },
  {
   "cell_type": "markdown",
   "metadata": {},
   "source": [
    "The following templates are used: \n",
    "1. [NMT v1.2](https://afni.nimh.nih.gov/pub/dist/doc/htmldoc/nonhuman/macaque_tempatl/template_nmtv1.html)\n",
    "2. [NMT v1.3](https://afni.nimh.nih.gov/pub/dist/doc/htmldoc/nonhuman/macaque_tempatl/template_nmtv1.html)\n",
    "3. [NMT v2.0](https://afni.nimh.nih.gov/pub/dist/doc/htmldoc/nonhuman/macaque_tempatl/template_nmtv2.html)\n",
    "4. [D99](https://afni.nimh.nih.gov/Macaque)\n",
    "5. [INIA19](https://www.nitrc.org/projects/inia19/https://www.nitrc.org/projects/inia19/)\n",
    "6. [MNI macaque](http://www.bic.mni.mcgill.ca/ServicesAtlases/Macaque)\n",
    "7. [Yerkes19](https://github.com/Washington-University/NHPPipelines)\n",
    "8. [ONPRC18](https://www.nitrc.org/projects/onprc18_atlas)     \n",
    "9. [F99](https://fsl.fmrib.ox.ac.uk/fsl/fslwiki/XTRACT)\n",
    "10. [MEBRAINS](https://doi.org/10.25493/5454-ZEA)       \n",
    "\n",
    "Within this notebook, they are abbreviated as *NMTv12*, *NMTv13*, *NMTv20_sym*, *NMTv20_asym*, *NMTv20_05mm_sym_brain*, and *NMTv20_05mm_asym*, *D99*, *INIA*, *MNI*, *YRK*, *ONPRC18*, *F99*, and *MEBRAINS*.     \n",
    "\n",
    "**NB!** We do not provide copies of the actual templates (licenses often forbids redistribution), but instead suggest you follow the links above and get them at the source. We do offer the warp files and warped templates that will be produced by this workflow. They can be downloaded from [Zenodo](https://doi.org/10.5281/zenodo.3786357) or [G-NODE GIN](https://gin.g-node.org/ChrisKlink/RheMAP). "
   ]
  },
  {
   "cell_type": "markdown",
   "metadata": {},
   "source": [
    "If you want to emulate this code, you can consider setting up your templates in the following folder structure:    \n",
    "\n",
    "|--- RheMAP   \n",
    "&emsp; |--- notebooks     \n",
    "&emsp; |--- templates     \n",
    "&emsp; &emsp; |--- D99     \n",
    "&emsp; &emsp; &emsp; |--- D99_atlas_1.2a.nii.gz     \n",
    "&emsp; &emsp; &emsp; |--- D99_atlas_1.2a_in_MNI.nii.gz     \n",
    "&emsp; &emsp; &emsp; |--- D99_template.nii.gz      \n",
    "&emsp; &emsp; |--- F99     \n",
    "&emsp; &emsp; &emsp; |--- struct.nii.gz     \n",
    "&emsp; &emsp; &emsp; |--- struct_brain.nii.gz \n",
    "&emsp; &emsp; |--- INIA   \n",
    "&emsp; &emsp; &emsp; |--- inia19-t1-brain_truncated.nii.gz      \n",
    "&emsp; &emsp; |--- MNI     \n",
    "&emsp; &emsp; &emsp; |--- macaque_25_model-MNI_brain.nii.gz      \n",
    "&emsp; &emsp; |--- MEBRAINS     \n",
    "&emsp; &emsp; &emsp; |--- MEBRAINS_T1_masked.nii.gz      \n",
    "&emsp; &emsp; |--- NMT     \n",
    "&emsp; &emsp; &emsp; |--- NMT_v1.2     \n",
    "&emsp; &emsp; &emsp; &emsp; |--- NMT_SS.nii.gz      \n",
    "&emsp; &emsp; &emsp; |--- NMT_v1.3     \n",
    "&emsp; &emsp; &emsp; &emsp; |--- NMT_SS.nii.gz     \n",
    "&emsp; &emsp; &emsp; |--- NMT_v2.0     \n",
    "&emsp; &emsp; &emsp; &emsp; |--- NMT_v2.0_asym_05mm_SS.nii.gz  \n",
    "&emsp; &emsp; &emsp; &emsp; |--- NMT_v2.0_asym_SS.nii.gz  \n",
    "&emsp; &emsp; &emsp; &emsp; |--- NMT_v2.0_sym_05mm_SS.nii.gz  \n",
    "&emsp; &emsp; &emsp; &emsp; |--- NMT_v2.0_sym_SS.nii.gz  \n",
    "&emsp; &emsp; |--- ONPRC18     \n",
    "&emsp; &emsp; &emsp; |--- ONPRC18_T1W.nii.gz  \n",
    "&emsp; &emsp; |--- YRK      \n",
    "&emsp; &emsp; &emsp; |--- MacaqueYerkes19_T1w_0.5mm_brain.nii.gz       \n",
    "\n",
    "After downloading the warp files and warped templates from [Zenodo](https://zenodo.org/record/3776856#.XqqfI3UzZjE), we suggest you include them like this:      \n",
    "\n",
    "|--- RheMAP   \n",
    "&emsp; |--- notebooks     \n",
    "&emsp; |--- templates     \n",
    "&emsp; |--- warps       \n",
    "&emsp; &emsp; |--- final     \n",
    "&emsp; &emsp; &emsp; |--- D99_to_INIA_CompositeWarp.nii.gz     \n",
    "&emsp; &emsp; &emsp; |--- D99_to_MNI_CompositeWarp.nii.gz      \n",
    "&emsp; &emsp; &emsp; |--- etc   \n",
    "&emsp; &emsp; |--- linear     \n",
    "&emsp; &emsp; &emsp; |--- D99_to_INIA_affine_0GenericAffine.mat     \n",
    "&emsp; &emsp; &emsp; |--- D99_to_MNI_affine_0GenericAffine.mat     \n",
    "&emsp; &emsp; &emsp; |--- etc   \n",
    "&emsp; &emsp; |--- nonlinear     \n",
    "&emsp; &emsp; &emsp; |--- D99_to_INIA_1InverseWarp.nii.gz     \n",
    "&emsp; &emsp; &emsp; |--- D99_to_INIA_1Warp.nii.gz     \n",
    "&emsp; &emsp; &emsp; |--- D99_to_MNI_1InverseWarp.nii.gz     \n",
    "&emsp; &emsp; &emsp; |--- D99_to_MNI_1Warp.nii.gz  \n",
    "&emsp; &emsp; &emsp; |--- etc   \n",
    "&emsp; |--- warped_templates       \n",
    "&emsp; &emsp; |--- final     \n",
    "&emsp; &emsp; &emsp; |--- D99_in_INIA_composite.nii.gz     \n",
    "&emsp; &emsp; &emsp; |--- D99_in_MNI_composite.nii.gz       \n",
    "&emsp; &emsp; &emsp; |--- etc   \n",
    "&emsp; &emsp; |--- linear     \n",
    "&emsp; &emsp; &emsp; |--- D99_in_INIA_linear.nii.gz    \n",
    "&emsp; &emsp; &emsp; |--- D99_in_MNI_linear.nii.gz          \n",
    "&emsp; &emsp; &emsp; |--- etc   \n",
    "&emsp; &emsp; |--- nonlinear     \n",
    "&emsp; &emsp; &emsp; |--- D99_in_INIA_linear+SyN.nii.gz     \n",
    "&emsp; &emsp; &emsp; |--- D99_in_MNI_linear+SyN.nii.gz     \n",
    "&emsp; &emsp; &emsp; |--- etc  "
   ]
  },
  {
   "cell_type": "markdown",
   "metadata": {},
   "source": [
    "Based on the warp files and warped templates you could of course reconstruct the original templates with something like the following.     \n",
    "\n",
    "On the command line:     \n",
    "```bash\n",
    "antsApplyTransforms -i <TEMPLATE1_in_TEMPLATE2_composite.nii.gz> \\\n",
    "                    -r <TEMPLATE2_in_TEMPLATE1.nii.gz> \\        \n",
    "                    -o <RECONSTRUCTED_ORIGINAL_TEMPLATE1.nii.gz> \\\n",
    "                    -t [<TEMPLATE1_to_TEMPLATE2_CompositeWarp>,1] \\\n",
    "                    -n Linear \\\n",
    "                    -d 3\n",
    "```    \n",
    "\n",
    "In NiPype:     \n",
    "```python\n",
    "import nipype.interfaces.ants as ants    \n",
    "ants.ApplyTransforms(\n",
    "            input_image=<TEMPLATE1_in_TEMPLATE2_composite.nii.gz>,\n",
    "            reference_image=<TEMPLATE2_in_TEMPLATE1.nii.gz>,        \n",
    "            output_image=<RECONSTRUCTED_ORIGINAL_TEMPLATE1.nii.gz>,\n",
    "            transforms=<TEMPLATE1_to_TEMPLATE2_CompositeWarp>,\n",
    "            invert_transform_flags=True,\n",
    "            interpolation='Linear',\n",
    "            dimension=3)\n",
    "```"
   ]
  },
  {
   "cell_type": "markdown",
   "metadata": {},
   "source": [
    "The end goal is to generate warps between each unique pair of the templates (forward and backward).\n",
    "* forwards (A to B, e.g. *NMTv1.2_to_D99*)\n",
    "* backwards (B to A, e.g. *D99_to_NMTv1.2*)\n",
    "\n",
    "![warps](RegisterTemplates.png)"
   ]
  },
  {
   "cell_type": "markdown",
   "metadata": {},
   "source": [
    "## Step 0: Preparations"
   ]
  },
  {
   "cell_type": "markdown",
   "metadata": {},
   "source": [
    "### 0a. Import required libraries"
   ]
  },
  {
   "cell_type": "code",
   "execution_count": 1,
   "metadata": {
    "tags": []
   },
   "outputs": [],
   "source": [
    "import os\n",
    "import glob\n",
    "import time\n",
    "import shutil as sh\n",
    "import nibabel as nb\n",
    "\n",
    "from itertools import combinations\n",
    "from matplotlib import pyplot as plt\n",
    "import numpy as np\n",
    "\n",
    "import nipype.interfaces.fsl as fsl # nipype interface for FSL\n",
    "import nipype.interfaces.ants as ants # nipype interface for ANTs\n",
    "from nilearn import plotting # Plotting function from nilearn\n",
    "\n",
    "from fireants.io import Image, BatchedImages\n",
    "from fireants.registration import AffineRegistration, GreedyRegistration\n",
    "import matplotlib.pyplot as plt\n",
    "import SimpleITK as sitk\n",
    "import torch, os\n",
    "torch.cuda.empty_cache()"
   ]
  },
  {
   "cell_type": "markdown",
   "metadata": {},
   "source": [
    "### 0b. Define relative paths to template files"
   ]
  },
  {
   "cell_type": "markdown",
   "metadata": {},
   "source": [
    "The skull-stripped isotropic volumetric images are used for registration.\n",
    "* For **NMT**, **D99**, and **YRK** the provided skull-stripped brains were used\n",
    "* In **INIA** the brain stem extends further down the spinal cord compared to the other temlplates, so the braisn stem was truncated at a level similar to the others\n",
    "* No skull-stripped image was provided with **MNI**, so the brain was segmented semi-manually using ITK-SNAP\n",
    "* For **YRK** we used the version provided together with [NHPPipelines](https://github.com/Washington-University/NHPPipelines)"
   ]
  },
  {
   "cell_type": "code",
   "execution_count": 2,
   "metadata": {},
   "outputs": [
    {
     "name": "stdout",
     "output_type": "stream",
     "text": [
      "/media/DOCS/Documents/PRIME-DRE/RheMAP/GIT/RheMAP/\n"
     ]
    }
   ],
   "source": [
    "# ============================================\n",
    "# NB! THIS COULD BE DIFFERENT FOR EVERY USER\n",
    "# ============================================\n",
    "BASE_path     = os.path.dirname(os.getcwd()) + '/'   # repo base folder\n",
    "print(BASE_path)\n",
    "\n",
    "# these follow the directory structure as outline above\n",
    "TEMPLATE_path = BASE_path + 'templates/'                   # templates base folder\n",
    "NMTv12_path   = TEMPLATE_path + 'NMT/NMT_v1.2/'\n",
    "NMTv13_path   = TEMPLATE_path + 'NMT/NMT_v1.3/'\n",
    "NMTv20_path   = TEMPLATE_path + 'NMT/NMT_v2.0/'\n",
    "D99_path      = TEMPLATE_path + 'D99/'\n",
    "F99_path      = TEMPLATE_path + 'F99/'\n",
    "INIA_path     = TEMPLATE_path + 'INIA/'\n",
    "MNI_path      = TEMPLATE_path + 'MNI/'\n",
    "YRK_path      = TEMPLATE_path + 'YRK/'\n",
    "ONPRC18_path  = TEMPLATE_path + 'ONPRC18/'\n",
    "MEBRAINS_path  = TEMPLATE_path + 'MEBRAINS/'"
   ]
  },
  {
   "cell_type": "code",
   "execution_count": 3,
   "metadata": {},
   "outputs": [],
   "source": [
    "NMTv12_brain = NMTv12_path + 'NMT_SS.nii.gz'\n",
    "NMTv13_brain = NMTv13_path + 'NMT_SS.nii.gz'\n",
    "NMTv20_sym_brain = NMTv20_path + 'NMT_v2.0_sym_SS.nii.gz'\n",
    "NMTv20_05mm_sym_brain = NMTv20_path + 'NMT_v2.0_sym_05mm_SS.nii.gz'\n",
    "NMTv20_asym_brain = NMTv20_path + 'NMT_v2.0_asym_SS.nii.gz'\n",
    "NMTv20_05mm_asym_brain = NMTv20_path + 'NMT_v2.0_asym_05mm_SS.nii.gz'\n",
    "D99_brain    = D99_path + 'D99_template.nii.gz'\n",
    "F99_brain    = F99_path + 'struct_brain.nii.gz'\n",
    "INIA_brain   = INIA_path + 'inia19-t1-brain_truncated.nii.gz'\n",
    "MNI_brain    = MNI_path + 'macaque_25_model-MNI_brain.nii.gz'\n",
    "YRK_brain    = YRK_path + 'MacaqueYerkes19_T1w_0.5mm_brain.nii.gz'\n",
    "ONPRC18_brain = ONPRC18_path + 'ONPRC18_T1W.nii.gz'\n",
    "MEBRAINS_brain = MEBRAINS_path + 'MEBRAINS_T1_masked.nii.gz'\n",
    "\n",
    "temp_names   = ['NMTv1.2', 'NMTv1.3',\n",
    "                'NMTv2.0-sym','NMTv2.0-0.5mm-sym',\n",
    "                'NMTv2.0-asym','NMTv2.0-0.5mm-asym',\n",
    "                'D99', 'F99', 'INIA', 'MNI',\n",
    "                'YRK', 'ONPRC18','MEBRAINS']\n",
    "temp_brains  = [NMTv12_brain, NMTv13_brain, \n",
    "                NMTv20_sym_brain, NMTv20_05mm_sym_brain,\n",
    "                NMTv20_asym_brain,NMTv20_05mm_asym_brain,\n",
    "                D99_brain, F99_brain, INIA_brain, MNI_brain,\n",
    "                YRK_brain, ONPRC18_brain, MEBRAINS_brain]\n",
    "\n",
    "# strength of contrast in the plot_anat function (\"dim\")\n",
    "contrasts = [0]*len(temp_brains) # create a list of zeros because this should exist\n",
    "contrasts = [-1, 0, 0, 0, 0, 0, 0, -1, -1, -0.5, 0, 0, 0] # specify to improve display"
   ]
  },
  {
   "cell_type": "markdown",
   "metadata": {},
   "source": [
    "In the following step you can create a subset of the templates to include in creating the warps. This can be useful when you add a new template and want to warp it to templates that have pre-existing warps (to each other). This way you can generate the new unique temlates without redoing the prexisting ones."
   ]
  },
  {
   "cell_type": "code",
   "execution_count": 4,
   "metadata": {},
   "outputs": [],
   "source": [
    "include_pairs_with = temp_names # all included\n",
    "include_pairs_with = ['MEBRAINS']"
   ]
  },
  {
   "cell_type": "markdown",
   "metadata": {},
   "source": [
    "The headers of NMT > v1.3 has both qform_code and sform_code set to 5. This is a relatively new definition ([see NITRC](https://www.nitrc.org/forum/forum.php?thread_id=10029&forum_id=1942)). Older version of nibabel (< 2.4.0) only recognized values 0-4 and reset the 5 to 0 which causes weird plotting artefacts (registrations will still be ok). As a workaround, you can use the code below to change the header value from 5 to something like 2 ('aligned'). A better option would of course be to update nibabel.\n",
    "```\n",
    "if NMTv13_brain in locals():\n",
    "    sh.copyfile(NMTv13_brain,NMTv13_brain + '.bak'); # back up the original file\n",
    "    img = nb.load(NMTv13_brain)\n",
    "    hdr = img.header\n",
    "    hdr.set_qform(hdr.get_qform(),code=2)\n",
    "    hdr.set_sform(hdr.get_sform(),code=2)\n",
    "    nb.save(img, NMTv13_brain) \n",
    "```"
   ]
  },
  {
   "cell_type": "markdown",
   "metadata": {},
   "source": [
    "### 0c. Plot template brains"
   ]
  },
  {
   "cell_type": "code",
   "execution_count": 5,
   "metadata": {
    "tags": []
   },
   "outputs": [
    {
     "data": {
      "image/png": "[encoded data removed]",
      "text/plain": [
       "<Figure size 660x350 with 4 Axes>"
      ]
     },
     "metadata": {},
     "output_type": "display_data"
    }
   ],
   "source": [
    "for name, brain,con in zip(temp_names, temp_brains, contrasts):\n",
    "    if name in include_pairs_with:\n",
    "        display = plotting.plot_anat(brain, display_mode='ortho', title=name, \n",
    "                  draw_cross=False, annotate=True, dim=con);\n",
    "        plt.savefig(name + '_template.png'); # save png\n",
    "        plt.draw()\n",
    "        #display.close()"
   ]
  },
  {
   "cell_type": "markdown",
   "metadata": {},
   "source": [
    "## Step 1: Perform registration\n",
    "* This is performed using [FireANTs](https://github.com/rohitrango/fireants) **Affine** registration (12 degrees of freedom: 3 translations + 3 rotations + 3 scalings + 3 shears)\n",
    "* It employs PyTorch and does the registration on the GPU (fast) but because of memory management we will have to do pairs of templates in a serial fashion rather than separate the the affine and non-linear steps. "
   ]
  },
  {
   "cell_type": "code",
   "execution_count": 6,
   "metadata": {},
   "outputs": [],
   "source": [
    "# compute initial alignment by center of mass\n",
    "def get_com_init(imgfix,imgmov):\n",
    "    fixed_sitk = sitk.ReadImage(imgfix)\n",
    "    moving_sitk = sitk.ReadImage(imgmov)\n",
    "    moving_sitk = sitk.Cast(moving_sitk, fixed_sitk.GetPixelID())\n",
    "    init_tx = sitk.CenteredTransformInitializer(\n",
    "        fixed_sitk,\n",
    "        moving_sitk,\n",
    "        sitk.AffineTransform(3),\n",
    "        sitk.CenteredTransformInitializerFilter.GEOMETRY\n",
    "    )\n",
    "    init_tx = sitk.AffineTransform(init_tx)\n",
    "    init_affine_np = np.eye(4)\n",
    "    init_affine_np[:3, :3] = np.array(init_tx.GetMatrix()).reshape(3, 3)\n",
    "    init_affine_np[:3, 3] = np.array(init_tx.GetTranslation())\n",
    "    init_affine = torch.tensor(init_affine_np, dtype=torch.float32).unsqueeze(0)\n",
    "    device = torch.device('cuda:0' if torch.cuda.is_available() else 'cpu')\n",
    "    init_affine = init_affine.to(device)\n",
    "    return init_affine"
   ]
  },
  {
   "cell_type": "code",
   "execution_count": 8,
   "metadata": {},
   "outputs": [
    {
     "name": "stdout",
     "output_type": "stream",
     "text": [
      "\n",
      "Linearly registering NMTv1.2 to MEBRAINS template...\n",
      "Parameter containing:\n",
      "tensor([[[ 1.0000,  0.0000,  0.0000,  0.0500],\n",
      "         [ 0.0000,  1.0000,  0.0000, -0.9500],\n",
      "         [ 0.0000,  0.0000,  1.0000,  0.5000]]], device='cuda:0',\n",
      "       requires_grad=True)\n"
     ]
    },
    {
     "name": "stderr",
     "output_type": "stream",
     "text": [
      "/home/chris/fireants/fireants/utils/imageutils.py:109: UserWarning: operator() sees varying value in profiling, ignoring and this should be handled by GUARD logic (Triggered internally at ../torch/csrc/jit/codegen/cuda/parser.cpp:3668.)\n",
      "  image_smooth = separable_filtering(image+0, gaussians)\n",
      "/home/chris/fireants/fireants/registration/affine.py:241: UserWarning: operator() profile_node %70 : int[] = prim::profile_ivalue[profile_failed=\"varying profile values\"](%s.1)\n",
      " does not have profile information (Triggered internally at ../torch/csrc/jit/codegen/cuda/graph_fuser.cpp:105.)\n",
      "  moving_image_blur = separable_filtering(moving_arrays, gaussians)\n",
      "scale: 4, iter: 199/200, loss: -0.326949: 100%|██████████| 200/200 [00:01<00:00, 103.32it/s]\n",
      "scale: 2, iter: 99/100, loss: -0.227641: 100%|██████████| 100/100 [00:01<00:00, 57.65it/s]\n",
      "scale: 1, iter: 49/50, loss: -0.144787: 100%|██████████| 50/50 [00:05<00:00,  8.90it/s]\n",
      "INFO:fireants.registration.affine:Saved transform to NMTv1.2_in_MEBRAINS_affine_0GenericAffine.txt\n"
     ]
    },
    {
     "name": "stdout",
     "output_type": "stream",
     "text": [
      "\n",
      "Non-linearly registering NMTv1.2 to MEBRAINS template...\n"
     ]
    },
    {
     "name": "stderr",
     "output_type": "stream",
     "text": [
      "scale: 4, iter: 64/200, loss: -0.387225:  32%|███▏      | 64/200 [00:00<00:01, 85.10it/s]\n",
      "scale: 2, iter: 26/100, loss: -0.284462:  26%|██▌       | 26/100 [00:00<00:02, 35.61it/s]\n",
      "scale: 1, iter: 24/25, loss: -0.203314: 100%|██████████| 25/25 [00:05<00:00,  4.90it/s]\n"
     ]
    },
    {
     "name": "stdout",
     "output_type": "stream",
     "text": [
      "\n",
      "Getting non-linear component only for NMTv1.2 to MEBRAINS template...\n"
     ]
    },
    {
     "name": "stderr",
     "output_type": "stream",
     "text": [
      "scale: 4, iter: 60/200, loss: -0.396407:  30%|███       | 60/200 [00:00<00:01, 81.85it/s]\n",
      "scale: 2, iter: 23/100, loss: -0.296876:  23%|██▎       | 23/100 [00:00<00:02, 36.39it/s]\n",
      "scale: 1, iter: 24/25, loss: -0.213512: 100%|██████████| 25/25 [00:05<00:00,  4.84it/s]\n"
     ]
    },
    {
     "name": "stdout",
     "output_type": "stream",
     "text": [
      "\n",
      "Linearly registering MEBRAINS to NMTv1.2 template...\n",
      "Parameter containing:\n",
      "tensor([[[ 1.0000,  0.0000,  0.0000, -0.0500],\n",
      "         [ 0.0000,  1.0000,  0.0000,  0.9500],\n",
      "         [ 0.0000,  0.0000,  1.0000, -0.5000]]], device='cuda:0',\n",
      "       requires_grad=True)\n"
     ]
    },
    {
     "name": "stderr",
     "output_type": "stream",
     "text": [
      "scale: 4, iter: 199/200, loss: -0.354272: 100%|██████████| 200/200 [00:02<00:00, 81.26it/s]\n",
      "scale: 2, iter: 99/100, loss: -0.257123: 100%|██████████| 100/100 [00:04<00:00, 21.64it/s]\n",
      "scale: 1, iter: 49/50, loss: -0.157071: 100%|██████████| 50/50 [00:18<00:00,  2.72it/s]\n",
      "INFO:fireants.registration.affine:Saved transform to NMTv1.2_in_MEBRAINS_affine_0GenericAffine.txt\n"
     ]
    },
    {
     "name": "stdout",
     "output_type": "stream",
     "text": [
      "\n",
      "Non-linearly registering MEBRAINS to NMTv1.2 template...\n"
     ]
    },
    {
     "name": "stderr",
     "output_type": "stream",
     "text": [
      "scale: 4, iter: 36/200, loss: -0.405207:  18%|█▊        | 36/200 [00:00<00:03, 48.88it/s]\n",
      "scale: 2, iter: 62/100, loss: -0.324858:  62%|██████▏   | 62/100 [00:04<00:02, 13.46it/s]\n",
      "  0%|          | 0/25 [00:00<?, ?it/s]\n"
     ]
    },
    {
     "ename": "OutOfMemoryError",
     "evalue": "CUDA out of memory. Tried to allocate 84.00 MiB (GPU 0; 5.79 GiB total capacity; 3.40 GiB already allocated; 162.50 MiB free; 3.46 GiB reserved in total by PyTorch) If reserved memory is >> allocated memory try setting max_split_size_mb to avoid fragmentation.  See documentation for Memory Management and PYTORCH_CUDA_ALLOC_CONF",
     "output_type": "error",
     "traceback": [
      "\u001b[0;31m---------------------------------------------------------------------------\u001b[0m",
      "\u001b[0;31mOutOfMemoryError\u001b[0m                          Traceback (most recent call last)",
      "Cell \u001b[0;32mIn[8], line 174\u001b[0m\n\u001b[1;32m    166\u001b[0m targ_brain \u001b[38;5;241m=\u001b[39m brains[\u001b[38;5;241m1\u001b[39m]\n\u001b[1;32m    168\u001b[0m reginv \u001b[38;5;241m=\u001b[39m GreedyRegistration(scales\u001b[38;5;241m=\u001b[39m[\u001b[38;5;241m4\u001b[39m, \u001b[38;5;241m2\u001b[39m, \u001b[38;5;241m1\u001b[39m], iterations\u001b[38;5;241m=\u001b[39m[\u001b[38;5;241m200\u001b[39m, \u001b[38;5;241m100\u001b[39m, \u001b[38;5;241m25\u001b[39m], \n\u001b[1;32m    169\u001b[0m     fixed_images\u001b[38;5;241m=\u001b[39mbatchmov, moving_images\u001b[38;5;241m=\u001b[39mbatchfix,\n\u001b[1;32m    170\u001b[0m     cc_kernel_size\u001b[38;5;241m=\u001b[39m\u001b[38;5;241m5\u001b[39m, deformation_type\u001b[38;5;241m=\u001b[39m\u001b[38;5;124m'\u001b[39m\u001b[38;5;124mcompositive\u001b[39m\u001b[38;5;124m'\u001b[39m, \n\u001b[1;32m    171\u001b[0m     smooth_grad_sigma\u001b[38;5;241m=\u001b[39m\u001b[38;5;241m1\u001b[39m, \n\u001b[1;32m    172\u001b[0m     optimizer\u001b[38;5;241m=\u001b[39m\u001b[38;5;124m'\u001b[39m\u001b[38;5;124madam\u001b[39m\u001b[38;5;124m'\u001b[39m, optimizer_lr\u001b[38;5;241m=\u001b[39m\u001b[38;5;241m0.5\u001b[39m, \n\u001b[1;32m    173\u001b[0m     init_affine\u001b[38;5;241m=\u001b[39maffineinv\u001b[38;5;241m.\u001b[39mget_affine_matrix()\u001b[38;5;241m.\u001b[39mdetach())\n\u001b[0;32m--> 174\u001b[0m \u001b[43mreginv\u001b[49m\u001b[38;5;241;43m.\u001b[39;49m\u001b[43moptimize\u001b[49m\u001b[43m(\u001b[49m\u001b[43msave_transformed\u001b[49m\u001b[38;5;241;43m=\u001b[39;49m\u001b[38;5;28;43;01mFalse\u001b[39;49;00m\u001b[43m)\u001b[49m\n\u001b[1;32m    175\u001b[0m warpinv \u001b[38;5;241m=\u001b[39m os\u001b[38;5;241m.\u001b[39mpath\u001b[38;5;241m.\u001b[39mjoin(invoutbase \u001b[38;5;241m+\u001b[39m \u001b[38;5;124m\"\u001b[39m\u001b[38;5;124m_warp.pt\u001b[39m\u001b[38;5;124m\"\u001b[39m)\n\u001b[1;32m    176\u001b[0m torch\u001b[38;5;241m.\u001b[39msave(reginv\u001b[38;5;241m.\u001b[39mget_warped_coordinates(batchmov,batchfix), warpinv)\n",
      "File \u001b[0;32m~/fireants/fireants/registration/greedy.py:290\u001b[0m, in \u001b[0;36mGreedyRegistration.optimize\u001b[0;34m(self, save_transformed)\u001b[0m\n\u001b[1;32m    287\u001b[0m \u001b[38;5;66;03m# moved_coords.retain_grad()\u001b[39;00m\n\u001b[1;32m    288\u001b[0m \u001b[38;5;66;03m# move the image\u001b[39;00m\n\u001b[1;32m    289\u001b[0m moved_image \u001b[38;5;241m=\u001b[39m F\u001b[38;5;241m.\u001b[39mgrid_sample(moving_image_blur, moved_coords, mode\u001b[38;5;241m=\u001b[39m\u001b[38;5;124m'\u001b[39m\u001b[38;5;124mbilinear\u001b[39m\u001b[38;5;124m'\u001b[39m, align_corners\u001b[38;5;241m=\u001b[39m\u001b[38;5;28;01mTrue\u001b[39;00m)  \u001b[38;5;66;03m# [N, C, H, W, [D]]\u001b[39;00m\n\u001b[0;32m--> 290\u001b[0m loss \u001b[38;5;241m=\u001b[39m \u001b[38;5;28;43mself\u001b[39;49m\u001b[38;5;241;43m.\u001b[39;49m\u001b[43mloss_fn\u001b[49m\u001b[43m(\u001b[49m\u001b[43mmoved_image\u001b[49m\u001b[43m,\u001b[49m\u001b[43m \u001b[49m\u001b[43mfixed_image_down\u001b[49m\u001b[43m)\u001b[49m\n\u001b[1;32m    291\u001b[0m \u001b[38;5;66;03m# apply regularization on the warp field\u001b[39;00m\n\u001b[1;32m    292\u001b[0m \u001b[38;5;28;01mif\u001b[39;00m \u001b[38;5;28mself\u001b[39m\u001b[38;5;241m.\u001b[39mdisplacement_reg \u001b[38;5;129;01mis\u001b[39;00m \u001b[38;5;129;01mnot\u001b[39;00m \u001b[38;5;28;01mNone\u001b[39;00m:\n",
      "File \u001b[0;32m~/anaconda3/envs/neuro/lib/python3.10/site-packages/torch/nn/modules/module.py:1194\u001b[0m, in \u001b[0;36mModule._call_impl\u001b[0;34m(self, *input, **kwargs)\u001b[0m\n\u001b[1;32m   1190\u001b[0m \u001b[38;5;66;03m# If we don't have any hooks, we want to skip the rest of the logic in\u001b[39;00m\n\u001b[1;32m   1191\u001b[0m \u001b[38;5;66;03m# this function, and just call forward.\u001b[39;00m\n\u001b[1;32m   1192\u001b[0m \u001b[38;5;28;01mif\u001b[39;00m \u001b[38;5;129;01mnot\u001b[39;00m (\u001b[38;5;28mself\u001b[39m\u001b[38;5;241m.\u001b[39m_backward_hooks \u001b[38;5;129;01mor\u001b[39;00m \u001b[38;5;28mself\u001b[39m\u001b[38;5;241m.\u001b[39m_forward_hooks \u001b[38;5;129;01mor\u001b[39;00m \u001b[38;5;28mself\u001b[39m\u001b[38;5;241m.\u001b[39m_forward_pre_hooks \u001b[38;5;129;01mor\u001b[39;00m _global_backward_hooks\n\u001b[1;32m   1193\u001b[0m         \u001b[38;5;129;01mor\u001b[39;00m _global_forward_hooks \u001b[38;5;129;01mor\u001b[39;00m _global_forward_pre_hooks):\n\u001b[0;32m-> 1194\u001b[0m     \u001b[38;5;28;01mreturn\u001b[39;00m \u001b[43mforward_call\u001b[49m\u001b[43m(\u001b[49m\u001b[38;5;241;43m*\u001b[39;49m\u001b[38;5;28;43minput\u001b[39;49m\u001b[43m,\u001b[49m\u001b[43m \u001b[49m\u001b[38;5;241;43m*\u001b[39;49m\u001b[38;5;241;43m*\u001b[39;49m\u001b[43mkwargs\u001b[49m\u001b[43m)\u001b[49m\n\u001b[1;32m   1195\u001b[0m \u001b[38;5;66;03m# Do not call functions when jit is used\u001b[39;00m\n\u001b[1;32m   1196\u001b[0m full_backward_hooks, non_full_backward_hooks \u001b[38;5;241m=\u001b[39m [], []\n",
      "File \u001b[0;32m~/fireants/fireants/losses/cc.py:286\u001b[0m, in \u001b[0;36mLocalNormalizedCrossCorrelationLoss.forward\u001b[0;34m(self, pred, target, mask)\u001b[0m\n\u001b[1;32m    284\u001b[0m     ncc \u001b[38;5;241m=\u001b[39m checkpoint(cc_checkpoint_fn, target, pred, \u001b[38;5;28mself\u001b[39m\u001b[38;5;241m.\u001b[39mkernel, \u001b[38;5;28mself\u001b[39m\u001b[38;5;241m.\u001b[39mkernel_vol)\n\u001b[1;32m    285\u001b[0m \u001b[38;5;28;01melse\u001b[39;00m:\n\u001b[0;32m--> 286\u001b[0m     ncc \u001b[38;5;241m=\u001b[39m \u001b[43mcc_checkpoint_fn\u001b[49m\u001b[43m(\u001b[49m\u001b[43mtarget\u001b[49m\u001b[43m,\u001b[49m\u001b[43m \u001b[49m\u001b[43mpred\u001b[49m\u001b[43m,\u001b[49m\u001b[43m \u001b[49m\u001b[38;5;28;43mself\u001b[39;49m\u001b[38;5;241;43m.\u001b[39;49m\u001b[43mkernel\u001b[49m\u001b[43m,\u001b[49m\u001b[43m \u001b[49m\u001b[38;5;28;43mself\u001b[39;49m\u001b[38;5;241;43m.\u001b[39;49m\u001b[43mkernel_vol\u001b[49m\u001b[43m)\u001b[49m\n\u001b[1;32m    288\u001b[0m \u001b[38;5;66;03m# clamp\u001b[39;00m\n\u001b[1;32m    289\u001b[0m ncc \u001b[38;5;241m=\u001b[39m ncc\u001b[38;5;241m.\u001b[39mclamp(\u001b[38;5;28mmin\u001b[39m\u001b[38;5;241m=\u001b[39m\u001b[38;5;241m-\u001b[39m\u001b[38;5;241m1\u001b[39m, \u001b[38;5;28mmax\u001b[39m\u001b[38;5;241m=\u001b[39m\u001b[38;5;241m1\u001b[39m)\n",
      "File \u001b[0;32m~/fireants/fireants/losses/cc.py:270\u001b[0m, in \u001b[0;36mLocalNormalizedCrossCorrelationLoss.forward.<locals>.cc_checkpoint_fn\u001b[0;34m(target, pred, kernel, kernel_vol)\u001b[0m\n\u001b[1;32m    260\u001b[0m p_avg \u001b[38;5;241m=\u001b[39m p_sum \u001b[38;5;241m/\u001b[39m kernel_vol_p\n\u001b[1;32m    261\u001b[0m \u001b[38;5;66;03m# normalized cross correlation between t and p\u001b[39;00m\n\u001b[1;32m    262\u001b[0m \u001b[38;5;66;03m# sum[(t - mean[t]) * (p - mean[p])] / std[t] / std[p]\u001b[39;00m\n\u001b[1;32m    263\u001b[0m \u001b[38;5;66;03m# denoted by num / denom\u001b[39;00m\n\u001b[0;32m   (...)\u001b[0m\n\u001b[1;32m    268\u001b[0m \u001b[38;5;66;03m#     = sum[t*p] - sum[t] * mean[p] = cross\u001b[39;00m\n\u001b[1;32m    269\u001b[0m \u001b[38;5;66;03m# the following is actually squared ncc\u001b[39;00m\n\u001b[0;32m--> 270\u001b[0m cross \u001b[38;5;241m=\u001b[39m (tp_sum\u001b[38;5;241m.\u001b[39mto(pred) \u001b[38;5;241m-\u001b[39m \u001b[43mp_avg\u001b[49m\u001b[43m \u001b[49m\u001b[38;5;241;43m*\u001b[39;49m\u001b[43m \u001b[49m\u001b[43mt_sum\u001b[49m\u001b[38;5;241;43m.\u001b[39;49m\u001b[43mto\u001b[49m\u001b[43m(\u001b[49m\u001b[43mpred\u001b[49m\u001b[43m)\u001b[49m)  \u001b[38;5;66;03m# on pred device\u001b[39;00m\n\u001b[1;32m    271\u001b[0m t_var \u001b[38;5;241m=\u001b[39m torch\u001b[38;5;241m.\u001b[39mmax(\n\u001b[1;32m    272\u001b[0m     t2_sum \u001b[38;5;241m-\u001b[39m t_avg \u001b[38;5;241m*\u001b[39m t_sum, torch\u001b[38;5;241m.\u001b[39mas_tensor(\u001b[38;5;28mself\u001b[39m\u001b[38;5;241m.\u001b[39msmooth_dr, dtype\u001b[38;5;241m=\u001b[39mt2_sum\u001b[38;5;241m.\u001b[39mdtype, device\u001b[38;5;241m=\u001b[39mt2_sum\u001b[38;5;241m.\u001b[39mdevice)\n\u001b[1;32m    273\u001b[0m )\u001b[38;5;241m.\u001b[39mto(pred)\n\u001b[1;32m    274\u001b[0m p_var \u001b[38;5;241m=\u001b[39m torch\u001b[38;5;241m.\u001b[39mmax(\n\u001b[1;32m    275\u001b[0m     p2_sum \u001b[38;5;241m-\u001b[39m p_avg \u001b[38;5;241m*\u001b[39m p_sum, torch\u001b[38;5;241m.\u001b[39mas_tensor(\u001b[38;5;28mself\u001b[39m\u001b[38;5;241m.\u001b[39msmooth_dr, dtype\u001b[38;5;241m=\u001b[39mp2_sum\u001b[38;5;241m.\u001b[39mdtype, device\u001b[38;5;241m=\u001b[39mp2_sum\u001b[38;5;241m.\u001b[39mdevice)\n\u001b[1;32m    276\u001b[0m )\n",
      "\u001b[0;31mOutOfMemoryError\u001b[0m: CUDA out of memory. Tried to allocate 84.00 MiB (GPU 0; 5.79 GiB total capacity; 3.40 GiB already allocated; 162.50 MiB free; 3.46 GiB reserved in total by PyTorch) If reserved memory is >> allocated memory try setting max_split_size_mb to avoid fragmentation.  See documentation for Memory Management and PYTORCH_CUDA_ALLOC_CONF"
     ]
    }
   ],
   "source": [
    "for names, brains in zip(combinations(temp_names, 2), combinations(temp_brains, 2)):\n",
    "    mov_pref = names[0]\n",
    "    targ_pref = names[1]\n",
    "    torch.cuda.empty_cache()\n",
    "    \n",
    "    if mov_pref in include_pairs_with or targ_pref in include_pairs_with:\n",
    "        \n",
    "        ##################################\n",
    "        # LINEAR / AFFINE\n",
    "        ##################################\n",
    "\n",
    "        print('\\nLinearly registering {0} to {1} template...'.format(mov_pref, targ_pref))\n",
    "\n",
    "        mov_brain = brains[0]\n",
    "        targ_brain = brains[1]\n",
    "\n",
    "        # load the images\n",
    "        imagefix = Image.load_file(targ_brain)\n",
    "        imagemov = Image.load_file(mov_brain)\n",
    "        batchfix = BatchedImages([imagefix])\n",
    "        batchmov = BatchedImages([imagemov])\n",
    "        scales = [4, 2, 1]  # scales at which to perform registration\n",
    "        iterations = [200, 100, 50]\n",
    "        \n",
    "        # run affine reg\n",
    "        init_affine = get_com_init(targ_brain,mov_brain)\n",
    "        affine = AffineRegistration(scales, iterations, batchfix, batchmov, \n",
    "                                    optimizer='Adam', optimizer_lr=3e-3, cc_kernel_size=5,\n",
    "                                    init_rigid=init_affine)\n",
    "        transformed_images = affine.optimize(save_transformed=True)\n",
    "        \n",
    "        # save affine as ANTs registration files\n",
    "        outbase = mov_pref + '_in_' + targ_pref\n",
    "        txtfile = os.path.join(outbase + '_affine_0GenericAffine.txt')\n",
    "        matfile = os.path.join(outbase + '_affine_0GenericAffine.mat')\n",
    "        affine.save_as_ants_transforms(txtfile)\n",
    "        !ConvertTransformFile 3 {txtfile} {matfile} --homogeneousMatrix\n",
    "\n",
    "        # save affine moved file\n",
    "        reference_img = sitk.ReadImage(targ_brain)\n",
    "        moved = transformed_images[-1]\n",
    "        moved_image_np = moved[0, 0].detach().cpu().numpy() \n",
    "        moved_sitk_image = sitk.GetImageFromArray(moved_image_np)\n",
    "        moved_sitk_image.SetOrigin(reference_img.GetOrigin())\n",
    "        moved_sitk_image.SetSpacing(reference_img.GetSpacing())\n",
    "        moved_sitk_image.SetDirection(reference_img.GetDirection())\n",
    "        outfile = os.path.join(outbase + '_linear.nii.gz')\n",
    "        sitk.WriteImage(moved_sitk_image, outfile)\n",
    "\n",
    "        ##################################\n",
    "        # NONLINEAR\n",
    "        ##################################\n",
    "        del init_affine\n",
    "        torch.cuda.empty_cache()\n",
    "\n",
    "        print('\\nNon-linearly registering {0} to {1} template...'.format(mov_pref, targ_pref))\n",
    "        \n",
    "        reg = GreedyRegistration(scales=[4, 2, 1], iterations=[200, 100, 25], \n",
    "            fixed_images=batchfix, moving_images=batchmov,\n",
    "            cc_kernel_size=5, deformation_type='compositive', \n",
    "            smooth_grad_sigma=1, \n",
    "            optimizer='adam', optimizer_lr=0.5, \n",
    "            init_affine=affine.get_affine_matrix().detach(),\n",
    "            )\n",
    "        reg.optimize(save_transformed=False)\n",
    "        warp = os.path.join(outbase + \"_warp.pt\")\n",
    "        torch.save(reg.get_warped_coordinates(batchfix,batchmov), warp)\n",
    "        antswarp = os.path.join(outbase + \"_CompositeWarp.nii.gz\")\n",
    "        reg.save_as_ants_transforms(antswarp)\n",
    "\n",
    "        reference_img = sitk.ReadImage(targ_brain)\n",
    "        moved = reg.evaluate(batchfix, batchmov)\n",
    "        moved_image_np = moved[0, 0].detach().cpu().numpy() \n",
    "        moved_sitk_image = sitk.GetImageFromArray(moved_image_np)\n",
    "        moved_sitk_image.SetOrigin(reference_img.GetOrigin())\n",
    "        moved_sitk_image.SetSpacing(reference_img.GetSpacing())\n",
    "        moved_sitk_image.SetDirection(reference_img.GetDirection())\n",
    "        outfile = os.path.join(outbase + '_composite.nii.gz')\n",
    "        sitk.WriteImage(moved_sitk_image, outfile)\n",
    "\n",
    "        del transformed_images, moved, moved_image_np\n",
    "        torch.cuda.empty_cache()\n",
    "\n",
    "        ##################################\n",
    "        # NONLINEAR COMPONENT ONLY\n",
    "        ##################################\n",
    "        # free up memory by deleting old tensors \n",
    "        del affine, reg\n",
    "        torch.cuda.empty_cache()\n",
    "\n",
    "        print('\\nGetting non-linear component only for {0} to {1} template...'.format(mov_pref, targ_pref))\n",
    "\n",
    "        imgmov = os.path.join(outbase + '_linear.nii.gz')\n",
    "        imagemov = Image.load_file(imgmov)\n",
    "        batchmov = BatchedImages([imagemov])\n",
    "        \n",
    "        regsyn = GreedyRegistration(scales=[4, 2, 1], iterations=[200, 100, 25], \n",
    "            fixed_images=batchfix, moving_images=batchmov,\n",
    "            cc_kernel_size=5, deformation_type='compositive', \n",
    "            smooth_grad_sigma=1, \n",
    "            optimizer='adam', optimizer_lr=0.5)\n",
    "        regsyn.optimize(save_transformed=False)\n",
    "        antswarp = os.path.join(outbase + \"_1Warp.nii.gz\")\n",
    "        regsyn.save_as_ants_transforms(antswarp)\n",
    "\n",
    "        reference_img = sitk.ReadImage(targ_brain)\n",
    "        moved = regsyn.evaluate(batchfix, batchmov)\n",
    "        moved_image_np = moved[0, 0].detach().cpu().numpy() \n",
    "        moved_sitk_image = sitk.GetImageFromArray(moved_image_np)\n",
    "        moved_sitk_image.SetOrigin(reference_img.GetOrigin())\n",
    "        moved_sitk_image.SetSpacing(reference_img.GetSpacing())\n",
    "        moved_sitk_image.SetDirection(reference_img.GetDirection())\n",
    "        outfile = os.path.join(outbase + '_linear+SyN.nii.gz')\n",
    "        sitk.WriteImage(moved_sitk_image, outfile)\n",
    "\n",
    "        del regsyn \n",
    "        torch.cuda.empty_cache()\n",
    "\n",
    "        ##################################\n",
    "        # INVERSE LINEAR / AFFINE\n",
    "        ##################################\n",
    "\n",
    "        print('\\nLinearly registering {1} to {0} template...'.format(mov_pref, targ_pref))\n",
    "\n",
    "        # load the images\n",
    "        imagemov = Image.load_file(mov_brain)\n",
    "        batchmov = BatchedImages([imagemov])\n",
    "        scales = [4, 2, 1]  # scales at which to perform registration\n",
    "        iterations = [200, 100, 50]\n",
    "        \n",
    "        # run inverse affine\n",
    "        init_affine = get_com_init(mov_brain,targ_brain)\n",
    "        affineinv = AffineRegistration(scales, iterations, batchmov, batchfix, \n",
    "                                       optimizer='Adam', optimizer_lr=3e-3, cc_kernel_size=5,\n",
    "                                       init_rigid=init_affine)\n",
    "        transformed_images_inv = affineinv.optimize(save_transformed=True)\n",
    "\n",
    "        # save inv affine as ANTs registration files\n",
    "        invoutbase = targ_pref + '_in_' + mov_pref + '_linear.nii.gz'\n",
    "        txtfile = os.path.join(outbase + '_affine_0GenericAffine.txt')\n",
    "        matfile = os.path.join(outbase + '_affine_0GenericAffine.mat')\n",
    "        affineinv.save_as_ants_transforms(txtfile)\n",
    "        !ConvertTransformFile 3 {txtfile} {matfile} --homogeneousMatrix\n",
    "\n",
    "        # save inv affine moved file\n",
    "        reference_img = sitk.ReadImage(mov_brain)\n",
    "        moved = transformed_images_inv[-1]\n",
    "        moved_image_np = moved[0, 0].detach().cpu().numpy() \n",
    "        moved_sitk_image = sitk.GetImageFromArray(moved_image_np)\n",
    "        moved_sitk_image.SetOrigin(reference_img.GetOrigin())\n",
    "        moved_sitk_image.SetSpacing(reference_img.GetSpacing())\n",
    "        moved_sitk_image.SetDirection(reference_img.GetDirection())\n",
    "        outfile = os.path.join(invoutbase + '_linear.nii.gz')\n",
    "        sitk.WriteImage(moved_sitk_image, outfile)\n",
    "\n",
    "        ##################################\n",
    "        # NONLINEAR\n",
    "        ##################################\n",
    "        del init_affine\n",
    "        torch.cuda.empty_cache()\n",
    "        print('\\nNon-linearly registering {1} to {0} template...'.format(mov_pref, targ_pref))\n",
    "\n",
    "        mov_pref = names[0]\n",
    "        targ_pref = names[1]\n",
    "        mov_brain = '{0}_in_{1}_linear.nii.gz'.format(mov_pref, targ_pref)\n",
    "        targ_brain = brains[1]\n",
    "        \n",
    "        reginv = GreedyRegistration(scales=[4, 2, 1], iterations=[200, 100, 25], \n",
    "            fixed_images=batchmov, moving_images=batchfix,\n",
    "            cc_kernel_size=5, deformation_type='compositive', \n",
    "            smooth_grad_sigma=1, \n",
    "            optimizer='adam', optimizer_lr=0.5, \n",
    "            init_affine=affineinv.get_affine_matrix().detach())\n",
    "        reginv.optimize(save_transformed=False)\n",
    "        warpinv = os.path.join(invoutbase + \"_warp.pt\")\n",
    "        torch.save(reginv.get_warped_coordinates(batchmov,batchfix), warpinv)\n",
    "        antswarpinv = os.path.join(invoutbase + \"_CompositeWarp.nii.gz\")\n",
    "        reginv.save_as_ants_transforms(antswarpinv)\n",
    "\n",
    "        reference_img = sitk.ReadImage(mov_brain)\n",
    "        movedinv = reginv.evaluate(batchmov, batchfix)\n",
    "        movedinv_image_np = movedinv[0, 0].detach().cpu().numpy() \n",
    "        movedinv_sitk_image = sitk.GetImageFromArray(moved_image_np)\n",
    "        movedinv_sitk_image.SetOrigin(reference_img.GetOrigin())\n",
    "        movedinv_sitk_image.SetSpacing(reference_img.GetSpacing())\n",
    "        movedinv_sitk_image.SetDirection(reference_img.GetDirection())\n",
    "        outfile = os.path.join(invoutbase + '_composite.nii.gz')\n",
    "        sitk.WriteImage(movedinv_sitk_image, outfile)\n",
    "\n",
    "        del transformed_images_inv, moved, moved_image_np, movedinv, movedinv_image_np\n",
    "        torch.cuda.empty_cache()\n",
    "    \n",
    "        ##################################\n",
    "        # NONLINEAR COMPONENT ONLY\n",
    "        ##################################\n",
    "        # free up memory by deleting old tensors \n",
    "        del affineinv, reginv, batchmov, imagemov\n",
    "        torch.cuda.empty_cache()\n",
    "\n",
    "        print('\\nGetting non-linear component only for {1} to {0} template...'.format(mov_pref, targ_pref))\n",
    "\n",
    "        imgmov = os.path.join(outbase + '_linear.nii.gz')\n",
    "        imagemov = Image.load_file(imgmov)\n",
    "        batchmov = BatchedImages([imagemov])\n",
    "        \n",
    "        regsyninv = GreedyRegistration(scales=[4, 2, 1], iterations=[200, 100, 25], \n",
    "            fixed_images=batchmov, moving_images=batchfix,\n",
    "            cc_kernel_size=5, deformation_type='compositive', \n",
    "            smooth_grad_sigma=1, \n",
    "            optimizer='adam', optimizer_lr=0.5)\n",
    "        regsyninv.optimize(save_transformed=False)\n",
    "        antswarp = os.path.join(outbase + \"_1InverseWarp.nii.gz\")\n",
    "        regsyninv.save_as_ants_transforms(antswarp)\n",
    "\n",
    "        reference_img = sitk.ReadImage(mov_brain)\n",
    "        movedinv = regsyninv.evaluate(batchmov, batchfix)\n",
    "        movedinv_image_np = movedinv[0, 0].detach().cpu().numpy() \n",
    "        movedinv_sitk_image = sitk.GetImageFromArray(moved_image_np)\n",
    "        movedinv_sitk_image.SetOrigin(reference_img.GetOrigin())\n",
    "        movedinv_sitk_image.SetSpacing(reference_img.GetSpacing())\n",
    "        movedinv_sitk_image.SetDirection(reference_img.GetDirection())\n",
    "        outfile = os.path.join(invoutbase + '_linear+SyN.nii.gz')\n",
    "        sitk.WriteImage(movedinv_sitk_image, outfile)\n",
    "\n",
    "        del regsyninv \n",
    "        del batchfix, batchmov, imagefix, imagemov\n",
    "        torch.cuda.empty_cache()\n",
    "\n"
   ]
  },
  {
   "cell_type": "code",
   "execution_count": null,
   "metadata": {},
   "outputs": [],
   "source": []
  },
  {
   "cell_type": "markdown",
   "metadata": {},
   "source": [
    "## Step 2: Visualize results\n",
    "### 2a. Visualize linear registration results"
   ]
  },
  {
   "cell_type": "code",
   "execution_count": null,
   "metadata": {
    "tags": []
   },
   "outputs": [],
   "source": [
    "for names, brains in zip(combinations(temp_names, 2), combinations(temp_brains, 2)):\n",
    "    if names[0] in include_pairs_with or names[1] in include_pairs_with:\n",
    "        mov_pref = names[0]\n",
    "        targ_pref = names[1]\n",
    "        mov_brain = brains[0]\n",
    "        targ_brain = brains[1]\n",
    "        targ_index = temp_names.index(targ_pref)\n",
    "\n",
    "        display = plotting.plot_anat(targ_brain, display_mode='ortho',\n",
    "                            title='{0} edges on {1} volume'.format(mov_pref, targ_pref),\n",
    "                            draw_cross=False, annotate=False, dim=contrasts[targ_index])\n",
    "        brain = '{0}_in_{1}_linear.nii.gz'.format(mov_pref, targ_pref)\n",
    "        #display.add_edges(brain)\n",
    "        display.add_contours(brain)\n",
    "        plt.savefig('Linear_{0}_on_{1}.png'.format(mov_pref, targ_pref))\n",
    "        plt.draw()\n",
    "        display.close()"
   ]
  },
  {
   "cell_type": "markdown",
   "metadata": {},
   "source": [
    "### 2b: Visualize non-linear registration results"
   ]
  },
  {
   "cell_type": "code",
   "execution_count": null,
   "metadata": {},
   "outputs": [],
   "source": [
    "for names, brains in zip(combinations(temp_names, 2), combinations(temp_brains, 2)):\n",
    "    if names[0] in include_pairs_with or names[1] in include_pairs_with:\n",
    "        mov_pref = names[0]\n",
    "        targ_pref = names[1]\n",
    "        targ_brain = brains[1]\n",
    "        targ_index = temp_names.index(targ_pref)\n",
    "\n",
    "        display = plotting.plot_anat(targ_brain, display_mode='ortho',\n",
    "                            title='{0} edges on {1} volume'.format(mov_pref, targ_pref),\n",
    "                            draw_cross=False, annotate=False, dim=contrasts[targ_index])\n",
    "        brain = '{0}_in_{1}_linear+SyN.nii.gz'.format(mov_pref, targ_pref)\n",
    "        #display.add_edges(brain)\n",
    "        display.add_contours(brain)\n",
    "        plt.savefig('Nonlinear_{0}_on_{1}.png'.format(mov_pref, targ_pref))\n",
    "        plt.draw()\n",
    "        display.close()"
   ]
  },
  {
   "cell_type": "markdown",
   "metadata": {},
   "source": [
    "### 2c: Visualize composite registration results    "
   ]
  },
  {
   "cell_type": "code",
   "execution_count": null,
   "metadata": {
    "tags": []
   },
   "outputs": [],
   "source": [
    "for names, brains in zip(combinations(temp_names, 2), combinations(temp_brains, 2)):\n",
    "    if names[0] in include_pairs_with or names[1] in include_pairs_with:\n",
    "        mov_pref = names[0]\n",
    "        targ_pref = names[1]\n",
    "        mov_brain = brains[0]\n",
    "        targ_brain = brains[1]\n",
    "        mov_index = temp_names.index(mov_pref)\n",
    "        targ_index = temp_names.index(targ_pref)\n",
    "\n",
    "        display = plotting.plot_anat(targ_brain, display_mode='ortho',\n",
    "                            title='{0} edges on {1} volume'.format(mov_pref, targ_pref),\n",
    "                            draw_cross=False, annotate=False, dim=contrasts[targ_index])\n",
    "        brain = '{0}_in_{1}_composite.nii.gz'.format(mov_pref, targ_pref)\n",
    "        #display.add_edges(brain)\n",
    "        display.add_contours(brain)\n",
    "        plt.savefig('Composite_{0}_on_{1}.png'.format(mov_pref, targ_pref))\n",
    "        plt.draw()\n",
    "        display.close()\n",
    "\n",
    "        display = plotting.plot_anat(mov_brain, display_mode='ortho',\n",
    "                            title='{1} edges on {0} volume'.format(mov_pref, targ_pref),\n",
    "                            draw_cross=False, annotate=False, dim=contrasts[mov_index])\n",
    "        brain = '{1}_in_{0}_composite.nii.gz'.format(mov_pref, targ_pref)\n",
    "        #display.add_edges(brain)\n",
    "        display.add_contours(brain)\n",
    "        plt.savefig('Composite_{1}_on_{0}.png'.format(mov_pref, targ_pref))\n",
    "        plt.draw()\n",
    "        plt.show()\n",
    "        display.close()"
   ]
  },
  {
   "cell_type": "markdown",
   "metadata": {},
   "source": [
    "### 4. Clean-up\n",
    "* Create subfolders for linear and non-linear warps, and for the warped volumes\n",
    "* Put all files in sensible subfolders"
   ]
  },
  {
   "cell_type": "code",
   "execution_count": null,
   "metadata": {},
   "outputs": [],
   "source": [
    "os.makedirs(BASE_path + \"warps/linear\" , exist_ok=True)\n",
    "os.makedirs(BASE_path + \"warps/nonlinear\" , exist_ok=True)\n",
    "os.makedirs(BASE_path + \"warps/final\" , exist_ok=True)\n",
    "\n",
    "[os.rename(os.getcwd() + '/' + f, BASE_path + \"warps/linear/\" + f) for f in glob.glob('*_affine_*Affine.mat')];\n",
    "[os.rename(os.getcwd() + '/' + f, BASE_path + \"warps/nonlinear/\" + f) for f in glob.glob('*_to_*_1Warp.nii.gz')];\n",
    "[os.rename(os.getcwd() + '/' + f, BASE_path + \"warps/nonlinear/\" + f) for f in glob.glob('*_to_*_1InverseWarp.nii.gz')];\n",
    "[os.rename(os.getcwd() + '/' + f, BASE_path + \"warps/final/\" + f) for f in glob.glob('*_to_*_CompositeWarp.nii.gz')];\n",
    "[os.remove(f) for f in glob.glob('*Affine.mat')]; # spurious linear warps (generated by nonlinear)\n",
    "\n",
    "os.makedirs(BASE_path + \"warped_templates/linear\" , exist_ok=True)\n",
    "os.makedirs(BASE_path + \"warped_templates/nonlinear\" , exist_ok=True)\n",
    "os.makedirs(BASE_path + \"warped_templates/final\" , exist_ok=True)\n",
    "\n",
    "[os.rename(os.getcwd() + '/' +  f, BASE_path + \"warped_templates/linear/\" + f) for f in glob.glob('*_in_*linear.nii.gz')];\n",
    "[os.rename(os.getcwd() + '/' +  f, BASE_path + \"warped_templates/nonlinear/\" + f) for f in glob.glob('*_in_*linear+SyN.nii.gz')];\n",
    "[os.rename(os.getcwd() + '/' +  f, BASE_path + \"warped_templates/final/\" + f) for f in glob.glob('*_in_*composite.nii.gz')];\n",
    "\n",
    "os.makedirs(BASE_path + \"images/templates\" , exist_ok=True)\n",
    "os.makedirs(BASE_path + \"images/linear_reg\" , exist_ok=True)\n",
    "os.makedirs(BASE_path + \"images/nonlinear_reg\" , exist_ok=True)\n",
    "os.makedirs(BASE_path + \"images/all_warp_pairs\" , exist_ok=True)\n",
    "\n",
    "[os.rename(os.getcwd() + '/' + f, BASE_path + \"images/templates/\" + f) for f in glob.glob('*_template.png')];\n",
    "[os.rename(os.getcwd() + '/' + f, BASE_path + \"images/linear_reg/\" + f) for f in glob.glob('Linear*.png')];\n",
    "[os.rename(os.getcwd() + '/' + f, BASE_path + \"images/nonlinear_reg/\" + f) for f in glob.glob('Nonlinear*.png')];\n",
    "[os.rename(os.getcwd() + '/' + f, BASE_path + \"images/all_warp_pairs/\" + f) for f in glob.glob('Composite*.png')];\n",
    "\n",
    "[os.rename(os.getcwd() + '/' + f, BASE_path + \"warps/linear/\" + f) for f in glob.glob('*_affine_*Affine.txt')];\n",
    "[os.rename(os.getcwd() + '/' + f, BASE_path + \"warps/nonlinear/\" + f) for f in glob.glob('*_to_*_warp.pt')];\n",
    "[os.rename(os.getcwd() + '/' + f, BASE_path + \"warps/nonlinear/\" + f) for f in glob.glob('*_to_*_warpinv.pt')];\n",
    "[os.rename(os.getcwd() + '/' + f, BASE_path + \"warps/final/\" + f) for f in glob.glob('*_to_*_CompositeWarp.nii.gz')];    "
   ]
  },
  {
   "cell_type": "markdown",
   "metadata": {},
   "source": [
    "### 5. We will now create the average 'meta'-template in NMTv2.0 symmetric space (just because we can)\n",
    "* Get all the templates (in NMTv2.0 sym space) & average them into a 'MetaTemplate'\n",
    "* Plot the result"
   ]
  },
  {
   "cell_type": "code",
   "execution_count": null,
   "metadata": {},
   "outputs": [],
   "source": [
    "wtp = BASE_path + \"warped_templates/final/\"\n",
    "image_list = [NMTv20_sym_brain]\n",
    "for file in os.listdir(wtp):\n",
    "    if file.split('_')[2] == 'NMTv2.0-sym':\n",
    "        image_list.append(wtp + file)"
   ]
  },
  {
   "cell_type": "code",
   "execution_count": null,
   "metadata": {
    "tags": []
   },
   "outputs": [],
   "source": [
    "avg = ants.AverageImages(\n",
    "    dimension=3,\n",
    "    output_average_image=\"MetaTemplate_in_NMTv2.0-sym.nii.gz\",\n",
    "    normalize=True,\n",
    "    images=image_list\n",
    ");\n",
    "avg.run();\n",
    "\n",
    "plotting.plot_anat(\"MetaTemplate_in_NMTv2.0-sym.nii.gz\", display_mode='ortho', \n",
    "          title=\"MetaTemplate in NMTv2.0-sym\", draw_cross=False, annotate=True, dim=con);\n",
    "plt.savefig('MetaTemplate_in_NMTv2.0-sym.png')\n",
    "plt.draw()"
   ]
  },
  {
   "cell_type": "code",
   "execution_count": null,
   "metadata": {},
   "outputs": [],
   "source": [
    "os.makedirs(BASE_path + \"warped_templates/metatemplate\" , exist_ok=True)\n",
    "[os.rename(os.getcwd() + '/' +  f, BASE_path + \"warped_templates/metatemplate/\" + f) for f in glob.glob('MetaTemplate*.nii.gz')];\n",
    "os.makedirs(BASE_path + \"images/metatemplate\" , exist_ok=True)\n",
    "[os.rename(os.getcwd() + '/' + f, BASE_path + \"images/metatemplate/\" + f) for f in glob.glob('MetaTemplate*.png')];"
   ]
  },
  {
   "cell_type": "code",
   "execution_count": null,
   "metadata": {},
   "outputs": [],
   "source": []
  }
 ],
 "metadata": {
  "kernelspec": {
   "display_name": "neuro",
   "language": "python",
   "name": "python3"
  },
  "language_info": {
   "codemirror_mode": {
    "name": "ipython",
    "version": 3
   },
   "file_extension": ".py",
   "mimetype": "text/x-python",
   "name": "python",
   "nbconvert_exporter": "python",
   "pygments_lexer": "ipython3",
   "version": "3.10.16"
  },
  "toc-showcode": false,
  "toc-showmarkdowntxt": false
 },
 "nbformat": 4,
 "nbformat_minor": 4
}
